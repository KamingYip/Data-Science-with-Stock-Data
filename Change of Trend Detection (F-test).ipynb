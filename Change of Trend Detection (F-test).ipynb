{
 "cells": [
  {
   "cell_type": "markdown",
   "metadata": {},
   "source": [
    "# <div align=\"center\">Data Science with Stock Data - Change of Trend Detection</div>\n",
    "### <div align=\"center\">Author: <a href=\"https://www.linkedin.com/in/kaming-yip-22b03a1a0/\">Kaming Yip</a>&emsp;&emsp;Date: Mar. 23, 2020</div>"
   ]
  },
  {
   "cell_type": "markdown",
   "metadata": {},
   "source": [
    "Before start reading this file, you are suggested to read the project instruction in the <a href=\"https://github.com/KamingYip/Data-Science-with-Stock-Data/blob/master/README.md\">README.md</a> file.\n",
    "\n",
    "In this file, we will apply <i>F</i>-test to detect whether there is a (statistically) significant change in the pricing behavior of the selected stock within some time interval. <i>F</i>-tests are often used to test equivalence of models that have been fitted to data using the least squares (such as linear regression). Some examples include\n",
    "  \n",
    "  * testing whether regression fits the data well\n",
    "  * testing for equality of means of normally distributed populations\n",
    "  * testing whether two regression lines fits data better than one column\n",
    "\n",
    "We will focus on the last item here.\n",
    "\n",
    "To start with, we scrape the historical data from <a href=\"https://finance.yahoo.com/quote/YELP?p=YELP&.tsrc=fin-srch-v1\">yahoo web</a> and manipulate the data to create desirable columns."
   ]
  },
  {
   "cell_type": "code",
   "execution_count": 1,
   "metadata": {},
   "outputs": [],
   "source": [
    "from pandas_datareader import data as web\n",
    "import pandas as pd\n",
    "import numpy as np"
   ]
  },
  {
   "cell_type": "code",
   "execution_count": 2,
   "metadata": {
    "scrolled": false
   },
   "outputs": [
    {
     "data": {
      "text/html": [
       "<div>\n",
       "<style scoped>\n",
       "    .dataframe tbody tr th:only-of-type {\n",
       "        vertical-align: middle;\n",
       "    }\n",
       "\n",
       "    .dataframe tbody tr th {\n",
       "        vertical-align: top;\n",
       "    }\n",
       "\n",
       "    .dataframe thead th {\n",
       "        text-align: right;\n",
       "    }\n",
       "</style>\n",
       "<table border=\"1\" class=\"dataframe\">\n",
       "  <thead>\n",
       "    <tr style=\"text-align: right;\">\n",
       "      <th></th>\n",
       "      <th>Date</th>\n",
       "      <th>Year</th>\n",
       "      <th>Month</th>\n",
       "      <th>Day</th>\n",
       "      <th>Weekday</th>\n",
       "      <th>Week_Number</th>\n",
       "      <th>Year_Week</th>\n",
       "      <th>Open</th>\n",
       "      <th>High</th>\n",
       "      <th>Low</th>\n",
       "      <th>Close</th>\n",
       "      <th>Volume</th>\n",
       "      <th>Adj Close</th>\n",
       "      <th>Return</th>\n",
       "    </tr>\n",
       "    <tr>\n",
       "      <th>Date</th>\n",
       "      <th></th>\n",
       "      <th></th>\n",
       "      <th></th>\n",
       "      <th></th>\n",
       "      <th></th>\n",
       "      <th></th>\n",
       "      <th></th>\n",
       "      <th></th>\n",
       "      <th></th>\n",
       "      <th></th>\n",
       "      <th></th>\n",
       "      <th></th>\n",
       "      <th></th>\n",
       "      <th></th>\n",
       "    </tr>\n",
       "  </thead>\n",
       "  <tbody>\n",
       "    <tr>\n",
       "      <th>2018-01-02</th>\n",
       "      <td>2018-01-02</td>\n",
       "      <td>2018</td>\n",
       "      <td>1</td>\n",
       "      <td>2</td>\n",
       "      <td>Tuesday</td>\n",
       "      <td>00</td>\n",
       "      <td>2018-00</td>\n",
       "      <td>42.06</td>\n",
       "      <td>43.47</td>\n",
       "      <td>42.06</td>\n",
       "      <td>43.24</td>\n",
       "      <td>1355300</td>\n",
       "      <td>43.24</td>\n",
       "      <td>0.000</td>\n",
       "    </tr>\n",
       "    <tr>\n",
       "      <th>2018-01-03</th>\n",
       "      <td>2018-01-03</td>\n",
       "      <td>2018</td>\n",
       "      <td>1</td>\n",
       "      <td>3</td>\n",
       "      <td>Wednesday</td>\n",
       "      <td>00</td>\n",
       "      <td>2018-00</td>\n",
       "      <td>43.35</td>\n",
       "      <td>43.59</td>\n",
       "      <td>42.86</td>\n",
       "      <td>43.12</td>\n",
       "      <td>1347700</td>\n",
       "      <td>43.12</td>\n",
       "      <td>-0.278</td>\n",
       "    </tr>\n",
       "    <tr>\n",
       "      <th>2018-01-04</th>\n",
       "      <td>2018-01-04</td>\n",
       "      <td>2018</td>\n",
       "      <td>1</td>\n",
       "      <td>4</td>\n",
       "      <td>Thursday</td>\n",
       "      <td>00</td>\n",
       "      <td>2018-00</td>\n",
       "      <td>43.36</td>\n",
       "      <td>43.53</td>\n",
       "      <td>42.52</td>\n",
       "      <td>42.82</td>\n",
       "      <td>933000</td>\n",
       "      <td>42.82</td>\n",
       "      <td>-0.696</td>\n",
       "    </tr>\n",
       "    <tr>\n",
       "      <th>2018-01-05</th>\n",
       "      <td>2018-01-05</td>\n",
       "      <td>2018</td>\n",
       "      <td>1</td>\n",
       "      <td>5</td>\n",
       "      <td>Friday</td>\n",
       "      <td>00</td>\n",
       "      <td>2018-00</td>\n",
       "      <td>42.95</td>\n",
       "      <td>43.34</td>\n",
       "      <td>42.74</td>\n",
       "      <td>43.17</td>\n",
       "      <td>916700</td>\n",
       "      <td>43.17</td>\n",
       "      <td>0.817</td>\n",
       "    </tr>\n",
       "    <tr>\n",
       "      <th>2018-01-08</th>\n",
       "      <td>2018-01-08</td>\n",
       "      <td>2018</td>\n",
       "      <td>1</td>\n",
       "      <td>8</td>\n",
       "      <td>Monday</td>\n",
       "      <td>01</td>\n",
       "      <td>2018-01</td>\n",
       "      <td>43.03</td>\n",
       "      <td>43.89</td>\n",
       "      <td>42.72</td>\n",
       "      <td>43.67</td>\n",
       "      <td>807600</td>\n",
       "      <td>43.67</td>\n",
       "      <td>1.158</td>\n",
       "    </tr>\n",
       "  </tbody>\n",
       "</table>\n",
       "</div>"
      ],
      "text/plain": [
       "                 Date  Year  Month  Day    Weekday Week_Number Year_Week  \\\n",
       "Date                                                                       \n",
       "2018-01-02 2018-01-02  2018      1    2    Tuesday          00   2018-00   \n",
       "2018-01-03 2018-01-03  2018      1    3  Wednesday          00   2018-00   \n",
       "2018-01-04 2018-01-04  2018      1    4   Thursday          00   2018-00   \n",
       "2018-01-05 2018-01-05  2018      1    5     Friday          00   2018-00   \n",
       "2018-01-08 2018-01-08  2018      1    8     Monday          01   2018-01   \n",
       "\n",
       "             Open   High    Low  Close   Volume  Adj Close  Return  \n",
       "Date                                                                \n",
       "2018-01-02  42.06  43.47  42.06  43.24  1355300      43.24   0.000  \n",
       "2018-01-03  43.35  43.59  42.86  43.12  1347700      43.12  -0.278  \n",
       "2018-01-04  43.36  43.53  42.52  42.82   933000      42.82  -0.696  \n",
       "2018-01-05  42.95  43.34  42.74  43.17   916700      43.17   0.817  \n",
       "2018-01-08  43.03  43.89  42.72  43.67   807600      43.67   1.158  "
      ]
     },
     "execution_count": 2,
     "metadata": {},
     "output_type": "execute_result"
    }
   ],
   "source": [
    "def get_stock(ticker, start_date, end_date):\n",
    "    try:\n",
    "        df = web.get_data_yahoo(ticker, start=start_date, end=end_date)\n",
    "        df['Return'] = df['Adj Close'].pct_change()\n",
    "        df['Return'].fillna(0, inplace = True)\n",
    "        df['Return'] = 100.0 * df['Return']\n",
    "        df['Return'] = df['Return'].round(3)\n",
    "        df['Date'] = df.index\n",
    "        df['Date'] = pd.to_datetime(df['Date'])\n",
    "        df['Month'] = df['Date'].dt.month\n",
    "        df['Year'] = df['Date'].dt.year\n",
    "        df['Day'] = df['Date'].dt.day\n",
    "        for col in ['Open', 'High', 'Low', 'Close', 'Adj Close']:\n",
    "            df[col] = df[col].round(2)\n",
    "        df['Weekday'] = df['Date'].dt.weekday_name  \n",
    "        df['Week_Number'] = df['Date'].dt.strftime('%U')\n",
    "        df['Year_Week'] = df['Date'].dt.strftime('%Y-%U')\n",
    "        col_list = ['Date', 'Year', 'Month', 'Day', 'Weekday', 'Week_Number', 'Year_Week',\n",
    "                    'Open', 'High', 'Low', 'Close', 'Volume', 'Adj Close', 'Return']\n",
    "        df = df[col_list]\n",
    "        return df\n",
    "    except Exception as error:\n",
    "        print(error)\n",
    "        return None\n",
    "\n",
    "ticker='YELP'\n",
    "df = get_stock(ticker, start_date='2018-01-01', end_date='2019-12-31')\n",
    "df.head()"
   ]
  },
  {
   "cell_type": "markdown",
   "metadata": {},
   "source": [
    "By far, we have completed the data preparation. From the raw data, we have conducted feature engineering to create new features that we would use in the modeling.\n",
    "\n",
    "Next step we will establish the <i>F</i>-test model. Especially, for each time period <i>T</i> (e.g. month), we want to check if there is a (statistically) significant change in pricing pattern for the selected stock. We proceed as follows. Assume that the time period contains <i>n</i> days and let <i>P</i><sub>1</sub> , ... , <i>P</i><sub>n</sub> denote the (adjusted closing) prices for days <i>i</i> = 1, ... , <i>n</i> . We construct a simple linear regression model for the price <i>P<sub>i</sub></i> = <i>α</i> * <i>i</i> + <i>β</i> . This model has two unknown parameters: slope <i>α</i> and intercept <i>β</i> . Therefore, for this model, the number of degrees of freedom <i>d</i> = 2. In general, if we have a linear regression on <i>m</i> variables, we would need to compute <i>m</i> slope coefficients and intercept - in this case <i>d</i> = <i>m</i> + 1. Let SSE(<i>T</i>) denote the sum of the squared residuals (\"loss\" function) for the regression line that \"fits\" prices <i>P</i><sub>1</sub> , ... , <i>P</i><sub>n</sub> .\n",
    "\n",
    "Then, we look for a day 1 < <i>k</i> < n where we suspect there is a change in linear trend. To find such a day, we divide our period <i>T</i> into two time periods: <i>T</i><sub>1</sub> containing days 1, ... , <i>k</i> and <i>T</i><sub>2</sub> containing days <i>k</i> + 1, ... , n. Within each period, we construct two regressions and compute the corresponding loss functions SSE(<i>T</i><sub>1</sub>) and SSE(<i>T</i><sub>2</sub>). We look for <i>k</i> that minimizes the total loss from using two regressions SSE(<i>T</i><sub>1</sub>) + SSE(<i>T</i><sub>2</sub>). Note that for each regression, the number of degrees of freedom is <i>d</i><sub>1</sub> = 2 and <i>d</i><sub>2</sub> = 2.\n",
    "\n",
    "Once we computed our \"break\" day candidate k, we construct the following <i>F</i> statistics. To simply the notation, let us define <i>L</i> = SSE(<i>T</i>), <i>L</i><sub>1</sub> = SSE(<i>T</i><sub>1</sub>) and <i>L</i><sub>2</sub> = SSE(<i>T</i><sub>2</sub>). Our <i>F</i> statistics is then\n",
    "\n",
    "<a href=\"https://www.codecogs.com/eqnedit.php?latex=F&space;=&space;[\\frac{L&space;-&space;(L_{1}&space;&plus;&space;L_{2})}{d_{1}&space;&plus;&space;d_{2}&space;-&space;d}]&space;\\cdot&space;[\\frac{L_{1}&space;&plus;&space;L_{2}}{n&space;-&space;(d_{1}&space;&plus;&space;d_{2})}]^{-1}\" target=\"_blank\"><img src=\"https://latex.codecogs.com/gif.latex?F&space;=&space;[\\frac{L&space;-&space;(L_{1}&space;&plus;&space;L_{2})}{d_{1}&space;&plus;&space;d_{2}&space;-&space;d}]&space;\\cdot&space;[\\frac{L_{1}&space;&plus;&space;L_{2}}{n&space;-&space;(d_{1}&space;&plus;&space;d_{2})}]^{-1}\" title=\"F = [\\frac{L - (L_{1} + L_{2})}{d_{1} + d_{2} - d}] \\cdot [\\frac{L_{1} + L_{2}}{n - (d_{1} + d_{2})}]^{-1}\" /></a>\n",
    "\n",
    "<a href=\"https://www.codecogs.com/eqnedit.php?latex==&space;[\\frac{L&space;-&space;(L_{1}&space;&plus;&space;L_{2})}{2}]\\cdot&space;[\\frac{L_{1}&space;&plus;&space;L_{2}}{n&space;-&space;4}]^{-1}\" target=\"_blank\"><img src=\"https://latex.codecogs.com/gif.latex?=&space;[\\frac{L&space;-&space;(L_{1}&space;&plus;&space;L_{2})}{2}]\\cdot&space;[\\frac{L_{1}&space;&plus;&space;L_{2}}{n&space;-&space;4}]^{-1}\" title=\"= [\\frac{L - (L_{1} + L_{2})}{2}]\\cdot [\\frac{L_{1} + L_{2}}{n - 4}]^{-1}\" /></a>\n",
    "\n",
    "Under the null hypothesis that two regression lines do not provide a significantly better fit than one regression line, <i>F</i> will have an (Fisher) <i>F</i>-distribution with (2, <i>n</i> - 4) degrees of freedom. The null hypothesis is rejected if the <i>F</i> is greater than some critical value. In this case, we will use 0.05 as critical value."
   ]
  },
  {
   "cell_type": "code",
   "execution_count": 3,
   "metadata": {},
   "outputs": [],
   "source": [
    "from sklearn.linear_model import LinearRegression\n",
    "from tabulate import tabulate\n",
    "from scipy.stats import f as fisher_f"
   ]
  },
  {
   "cell_type": "code",
   "execution_count": 4,
   "metadata": {},
   "outputs": [],
   "source": [
    "def linear_regression(x, y):\n",
    "    lin_reg = LinearRegression(fit_intercept = True)\n",
    "    lin_reg.fit(x, y)\n",
    "    y_pred = lin_reg.predict(x)\n",
    "    L = ((y - y_pred) ** 2).sum()\n",
    "    return L\n",
    "\n",
    "def F_test(data, year, alpha):\n",
    "    results = pd.DataFrame(columns = [\"Year\", \"Month\", \"Candidate k\", \"F Stats\",\n",
    "                                      \"F Value\", \"p value\", \"Null Hypethesis\"])\n",
    "    \n",
    "    for month in range(1, 13):\n",
    "        monthly_data = data[data[\"Month\"] == month].copy()\n",
    "        X = pd.Series(range(1, len(monthly_data)+1))\n",
    "        X_2 = X[:, np.newaxis]\n",
    "        y = monthly_data[\"Adj Close\"].values\n",
    "        \n",
    "        # 'loss' function: SSE(T)\n",
    "        L = linear_regression(X_2, y)\n",
    "        \n",
    "        k_results = pd.DataFrame(columns = [\"k\", \"L1\", \"L2\", \"L1+L2\"])\n",
    "        # divide into two time periods\n",
    "        for k in range(2, len(monthly_data)):\n",
    "            # period T1\n",
    "            T1 = monthly_data.iloc[ : k]\n",
    "            X_1 = pd.Series(range(1, k+1))\n",
    "            X_1_2 = X_1[: , np.newaxis]\n",
    "            y_1 = T1[\"Adj Close\"].values\n",
    "            L1 = linear_regression(X_1_2, y_1)\n",
    "            \n",
    "            # period T2\n",
    "            T2 = monthly_data.iloc[k : ]\n",
    "            X_2 = pd.Series(range(k+1, len(monthly_data)+1))\n",
    "            X_2_2 = X_2[: , np.newaxis]\n",
    "            y_2 = T2[\"Adj Close\"].values\n",
    "            L2 = linear_regression(X_2_2, y_2)\n",
    "            \n",
    "            k_results = k_results.append({\"k\": k, \"L1\": L1, \"L2\": L2, \"L1+L2\": L1+L2},\n",
    "                                         ignore_index = True)\n",
    "        \n",
    "        optimal_k = k_results.loc[k_results[\"L1+L2\"].idxmin(), \"k\"]\n",
    "        min_sum = k_results[\"L1+L2\"].min()\n",
    "        F = ((L - min_sum) / 2) * ((min_sum / (len(monthly_data) - 4)) ** (-1))\n",
    "        F_value = fisher_f.ppf(q = 1 - alpha, dfn = 2, dfd = len(monthly_data) - 4)\n",
    "        p_value = fisher_f.sf(F, 2, len(monthly_data) - 4)\n",
    "        \n",
    "        results = results.append({\"Year\": year, \"Month\": month, \"Candidate k\": optimal_k,\n",
    "                                  \"F Stats\": F, \"F Value\": F_value, \"p value\": p_value,\n",
    "                                  \"Null Hypethesis\": (\"Reject\" if p_value < alpha else \"Accept\")},\n",
    "                                 ignore_index = True)\n",
    "        \n",
    "    return results"
   ]
  },
  {
   "cell_type": "code",
   "execution_count": 5,
   "metadata": {},
   "outputs": [
    {
     "name": "stdout",
     "output_type": "stream",
     "text": [
      "                                   * Year 2018 *\n",
      "\n",
      "       Year    Month    Candidate k    F Stats    F Value    p value    Null Hypethesis\n",
      "--  ------  -------  -------------  ---------  ---------  ---------  -----------------\n",
      " 0    2018        1             11      4.762      3.592    0.02280             Reject\n",
      " 1    2018        2              5     55.169      3.682    0.00000             Reject\n",
      " 2    2018        3              9     51.566      3.592    0.00000             Reject\n",
      " 3    2018        4             13     24.094      3.592    0.00001             Reject\n",
      " 4    2018        5              8      8.837      3.555    0.00212             Reject\n",
      " 5    2018        6             11      7.069      3.592    0.00583             Reject\n",
      " 6    2018        7             12     10.411      3.592    0.00112             Reject\n",
      " 7    2018        8              6     54.127      3.522    0.00000             Reject\n",
      " 8    2018        9             10     16.431      3.682    0.00017             Reject\n",
      " 9    2018       10              9     16.570      3.522    0.00007             Reject\n",
      "10    2018       11              6     90.641      3.592    0.00000             Reject\n",
      "11    2018       12              9      6.797      3.682    0.00792             Reject\n"
     ]
    }
   ],
   "source": [
    "alpha = 0.05\n",
    "df_2018 = df.loc[df[\"Year\"] == 2018].copy().reset_index(drop = True)\n",
    "df_2018_results = F_test(df_2018, 2018, alpha)\n",
    "print(\" \" * 35 + \"* Year 2018 *\" + \"\\n\\n\",\n",
    "      tabulate(df_2018_results, headers = \"keys\", numalign = \"right\", stralign = \"right\",\n",
    "               floatfmt = (None, None, None, \".0f\", \".3f\", \".3f\", \".5f\")))"
   ]
  },
  {
   "cell_type": "code",
   "execution_count": 6,
   "metadata": {},
   "outputs": [
    {
     "name": "stdout",
     "output_type": "stream",
     "text": [
      "                                   * Year 2019 *\n",
      "\n",
      "       Year    Month    Candidate k    F Stats    F Value    p value    Null Hypethesis\n",
      "--  ------  -------  -------------  ---------  ---------  ---------  -----------------\n",
      " 0    2019        1              6      3.336      3.592    0.05996             Accept\n",
      " 1    2019        2             10     15.060      3.682    0.00026             Reject\n",
      " 2    2019        3              4     29.208      3.592    0.00000             Reject\n",
      " 3    2019        4             14     88.166      3.592    0.00000             Reject\n",
      " 4    2019        5              7    123.664      3.555    0.00000             Reject\n",
      " 5    2019        6              2      3.795      3.634    0.04479             Reject\n",
      " 6    2019        7             11     17.600      3.555    0.00006             Reject\n",
      " 7    2019        8              9      8.720      3.555    0.00225             Reject\n",
      " 8    2019        9              7     47.948      3.634    0.00000             Reject\n",
      " 9    2019       10              8     24.196      3.522    0.00001             Reject\n",
      "10    2019       11              5     32.985      3.634    0.00000             Reject\n",
      "11    2019       12              8     20.954      3.592    0.00003             Reject\n"
     ]
    }
   ],
   "source": [
    "df_2019 = df.loc[df[\"Year\"] == 2019].copy().reset_index(drop = True)\n",
    "df_2019_results = F_test(df_2019, 2019, alpha)\n",
    "print(\" \" * 35 + \"* Year 2019 *\" + \"\\n\\n\",\n",
    "      tabulate(df_2019_results, headers = \"keys\", numalign = \"right\", stralign = \"right\",\n",
    "               floatfmt = (None, None, None, \".0f\", \".3f\", \".3f\", \".5f\")))"
   ]
  },
  {
   "cell_type": "markdown",
   "metadata": {},
   "source": [
    "When we compare the <i>p value</i> for the <i>F</i>-test to the significance level (i.e. 0.05 in this instance), it is computed that the <i>p value</i> of each month is always less than the alpha level except for January 2019. As we have discussed above, if the <i>p value</i> is less than the significance level, we will reject the null hypothesis and the data provides sufficient evidence to conclude that two regression lines will fit the data better than the one regression line. On the other hand, in January 2019, the <i>p value</i> (i.e. 0.05996) is higher than our assigned significance level, which indicates that we are not 95% confident to reject the null; in other words, we should accept the null hypothesis under this setting and the data suggests that two regression lines do not provide a significantly better fit than one regression line."
   ]
  },
  {
   "cell_type": "code",
   "execution_count": 7,
   "metadata": {},
   "outputs": [],
   "source": [
    "import matplotlib.pyplot as plt\n",
    "import calendar"
   ]
  },
  {
   "cell_type": "code",
   "execution_count": 8,
   "metadata": {},
   "outputs": [
    {
     "data": {
      "image/png": "[encoded data removed]",
      "text/plain": [
       "<Figure size 1080x720 with 13 Axes>"
      ]
     },
     "metadata": {
      "needs_background": "light"
     },
     "output_type": "display_data"
    }
   ],
   "source": [
    "rows = 3\n",
    "cols = 4\n",
    "\n",
    "fig = plt.figure(figsize = (15, 10))\n",
    "axes = fig.add_subplot(111, frameon = False)\n",
    "plt.tick_params(labelcolor = \"none\", top = False, bottom = False, left = False, right = False)\n",
    "fig.subplots_adjust(hspace = 0.3, wspace = 0.3, top = 0.90)\n",
    "for i in range(1, 13):\n",
    "    ax = fig.add_subplot(rows, cols, i)\n",
    "    ax.scatter(df_2019.loc[df_2019[\"Month\"] == i, \"Day\"], df_2019.loc[df_2019[\"Month\"] == i, \"Adj Close\"])\n",
    "    ax.set_title(calendar.month_abbr[i])\n",
    "    ax.set_xticks(np.arange(0, 35, 10))\n",
    "\n",
    "fig.suptitle(\"The Distribution of Daily Adjusted Close Price in Each Month 2019\", fontweight = \"bold\")\n",
    "axes.set_xlabel(\"Day\", fontweight = \"bold\")\n",
    "axes.set_ylabel(\"Adj Close Price\", fontweight = \"bold\")\n",
    "plt.show() "
   ]
  },
  {
   "cell_type": "markdown",
   "metadata": {},
   "source": [
    "The scatter plots display how the adjusted closing price distributes in each month in year 2019. By visualizing the distribution, we can confirm that the stock (adjusted closing) price in January generally increased as time went by, following a linear distribution, while the data points in other months were more dispersive and could hardly be summarized with a single regression line. The visualization clearly demonstrates the patterns among the price, which makes the <i>F</i>-test results more convincing."
   ]
  }
 ],
 "metadata": {
  "kernelspec": {
   "display_name": "Python 3",
   "language": "python",
   "name": "python3"
  },
  "language_info": {
   "codemirror_mode": {
    "name": "ipython",
    "version": 3
   },
   "file_extension": ".py",
   "mimetype": "text/x-python",
   "name": "python",
   "nbconvert_exporter": "python",
   "pygments_lexer": "ipython3",
   "version": "3.7.3"
  }
 },
 "nbformat": 4,
 "nbformat_minor": 2
}
